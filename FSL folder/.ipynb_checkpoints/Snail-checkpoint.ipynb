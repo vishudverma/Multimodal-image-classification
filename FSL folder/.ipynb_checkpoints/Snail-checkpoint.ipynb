{
 "cells": [
  {
   "cell_type": "markdown",
   "id": "f9ea0cff-a0c5-45ad-8bd9-987fa851424f",
   "metadata": {},
   "source": [
    "TCBlock retains information and details(weights) from the bool of information(Temporal Convolutions) it is not being used as there is no sequential data in our files"
   ]
  }
 ],
 "metadata": {
  "kernelspec": {
   "display_name": "Python 3 (ipykernel)",
   "language": "python",
   "name": "python3"
  },
  "language_info": {
   "codemirror_mode": {
    "name": "ipython",
    "version": 3
   },
   "file_extension": ".py",
   "mimetype": "text/x-python",
   "name": "python",
   "nbconvert_exporter": "python",
   "pygments_lexer": "ipython3",
   "version": "3.10.13"
  }
 },
 "nbformat": 4,
 "nbformat_minor": 5
}
