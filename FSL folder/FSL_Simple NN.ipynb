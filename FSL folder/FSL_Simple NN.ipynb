{
 "cells": [
  {
   "cell_type": "code",
   "execution_count": 1,
   "id": "47639d19-8c15-47fa-a480-1f090f20e2da",
   "metadata": {
    "tags": []
   },
   "outputs": [
    {
     "name": "stdout",
     "output_type": "stream",
     "text": [
      "Done!\n"
     ]
    }
   ],
   "source": [
    "import keras\n",
    "import os\n",
    "import pandas as pd \n",
    "import numpy as np\n",
    "import tensorflow as tf\n",
    "import seaborn as sns\n",
    "import matplotlib.pyplot as plt\n",
    "from tensorflow.keras.layers import Input, Dense, Flatten, Activation, Lambda\n",
    "from tensorflow.keras.models import Model\n",
    "from tensorflow.keras.optimizers import Adam\n",
    "from tensorflow.keras.models import Sequential\n",
    "from tensorflow.keras.utils import to_categorical\n",
    "from sklearn.model_selection import train_test_split\n",
    "from sklearn.preprocessing import LabelEncoder\n",
    "from sklearn.metrics import confusion_matrix\n",
    "print(\"Done!\")"
   ]
  },
  {
   "cell_type": "code",
   "execution_count": 2,
   "id": "b16f69aa-65b6-4f2d-8430-1df2a6a68d4b",
   "metadata": {
    "tags": []
   },
   "outputs": [
    {
     "data": {
      "text/plain": [
       "'C:\\\\Users\\\\vishu\\\\FSL folder'"
      ]
     },
     "execution_count": 2,
     "metadata": {},
     "output_type": "execute_result"
    }
   ],
   "source": [
    "os.getcwd()"
   ]
  },
  {
   "cell_type": "code",
   "execution_count": 3,
   "id": "69500a99-ed02-437b-ae29-3ed10933e4b6",
   "metadata": {
    "tags": []
   },
   "outputs": [
    {
     "name": "stdout",
     "output_type": "stream",
     "text": [
      "Done!\n"
     ]
    }
   ],
   "source": [
    "# Load of all the .csv files containing extracted image features\n",
    "data_USG = pd.read_csv(\"Features/Ultrasound features.csv\")\n",
    "data_MMG = pd.read_csv(\"Features/Mammogram features.csv\")\n",
    "data_multimodal = pd.read_csv(\"Features/multimodal features.csv\")\n",
    "print('Done!')"
   ]
  },
  {
   "cell_type": "code",
   "execution_count": 4,
   "id": "27362066-e26a-49b9-aa14-f4c1cefdc9d3",
   "metadata": {
    "tags": []
   },
   "outputs": [
    {
     "name": "stdout",
     "output_type": "stream",
     "text": [
      "Done!\n"
     ]
    }
   ],
   "source": [
    "# to engage the GPU cores\n",
    "os.environ[\"CUDA_DEVICE_ORDER\"]=\"PCI_BUS_ID\"\n",
    "os.environ[\"CUDA_VISIBLE_DEVICES\"]=\"0,2,3,4\"\n",
    "device = os.environ[\"CUDA_VISIBLE_DEVICES\"]\n",
    "print('Done!')"
   ]
  },
  {
   "cell_type": "code",
   "execution_count": 5,
   "id": "1d0143e6-06c0-46ec-b66b-2c2084f35ea7",
   "metadata": {
    "tags": []
   },
   "outputs": [
    {
     "name": "stdout",
     "output_type": "stream",
     "text": [
      "Done!\n"
     ]
    }
   ],
   "source": [
    "#For in hot encoding the labels this tab is required\n",
    "class_mapping = {\n",
    "    'B': 0,\n",
    "    'M': 1,\n",
    "}\n",
    "num_classes = 2\n",
    "\n",
    "label_encoder = LabelEncoder()\n",
    "data_USG['Class'] = label_encoder.fit_transform(data_USG['Class'])\n",
    "data_MMG['Class'] = label_encoder.fit_transform(data_MMG['Class'])\n",
    "data_multimodal['Class'] = label_encoder.fit_transform(data_multimodal['Class'])\n",
    "print('Done!')"
   ]
  },
  {
   "cell_type": "code",
   "execution_count": 7,
   "id": "f736326c-f7f2-459a-9677-6f71d7c0b5de",
   "metadata": {
    "tags": []
   },
   "outputs": [
    {
     "name": "stdout",
     "output_type": "stream",
     "text": [
      "Epoch 1/10\n",
      "8/8 [==============================] - 12s 568ms/step - loss: 0.6079 - accuracy: 0.6333 - val_loss: 0.9660 - val_accuracy: 0.0333\n",
      "Epoch 2/10\n",
      "8/8 [==============================] - 1s 80ms/step - loss: 0.4699 - accuracy: 0.7958 - val_loss: 0.5894 - val_accuracy: 0.7000\n",
      "Epoch 3/10\n",
      "8/8 [==============================] - 1s 77ms/step - loss: 0.3511 - accuracy: 0.8875 - val_loss: 0.2816 - val_accuracy: 0.9667\n",
      "Epoch 4/10\n",
      "8/8 [==============================] - 1s 78ms/step - loss: 0.2858 - accuracy: 0.8792 - val_loss: 0.4716 - val_accuracy: 0.7167\n",
      "Epoch 5/10\n",
      "8/8 [==============================] - 1s 76ms/step - loss: 0.2150 - accuracy: 0.9333 - val_loss: 0.3464 - val_accuracy: 0.9000\n",
      "Epoch 6/10\n",
      "8/8 [==============================] - 1s 82ms/step - loss: 0.1639 - accuracy: 0.9583 - val_loss: 0.2316 - val_accuracy: 0.9667\n",
      "Epoch 7/10\n",
      "8/8 [==============================] - 1s 88ms/step - loss: 0.1115 - accuracy: 0.9875 - val_loss: 0.1859 - val_accuracy: 0.9667\n",
      "Epoch 8/10\n",
      "8/8 [==============================] - 1s 115ms/step - loss: 0.0834 - accuracy: 0.9917 - val_loss: 0.1076 - val_accuracy: 0.9667\n",
      "Epoch 9/10\n",
      "8/8 [==============================] - 1s 136ms/step - loss: 0.0582 - accuracy: 1.0000 - val_loss: 0.1260 - val_accuracy: 0.9667\n",
      "Epoch 10/10\n",
      "8/8 [==============================] - 1s 94ms/step - loss: 0.0402 - accuracy: 1.0000 - val_loss: 0.2605 - val_accuracy: 0.8833\n",
      "4/4 [==============================] - 0s 27ms/step - loss: 0.1676 - accuracy: 0.9423\n",
      "Test Accuracy: 94.23%\n"
     ]
    }
   ],
   "source": [
    "# Extract features and labels from your preprocessed data\n",
    "X = data_USG.drop(columns=['Class']).values\n",
    "y = data_USG['Class'].values\n",
    "\n",
    "# Split the data into training and test sets\n",
    "X_train, X_test, y_train, y_test = train_test_split(X, y, test_size=0.2, random_state=42)\n",
    "\n",
    "# Encode class labels for binary classification\n",
    "label_encoder = LabelEncoder()\n",
    "y_train_encoded = label_encoder.fit_transform(y_train)\n",
    "y_test_encoded = label_encoder.transform(y_test)\n",
    "\n",
    "\n",
    "# Generating a 2-way, n-shot support set\n",
    "num_classes = 2  # Binary classification\n",
    "num_support_examples_per_class = 150  # n-shot learning\n",
    "support_set_X = []\n",
    "support_set_y = []\n",
    "for class_label in range(num_classes):\n",
    "    class_indices = np.where(y_train_encoded == class_label)[0]\n",
    "    support_indices = np.random.choice(class_indices, num_support_examples_per_class, replace=False)\n",
    "    support_set_X.extend(X_train[support_indices])\n",
    "    support_set_y.extend([class_label] * num_support_examples_per_class)\n",
    "\n",
    "support_set_X = np.array(support_set_X)\n",
    "support_set_y = np.array(support_set_y)\n",
    "\n",
    "# Define a simple feedforward neural network model\n",
    "model = Sequential()\n",
    "model.add(Dense(128, activation='relu', input_shape=(512,)))\n",
    "model.add(Dense(64, activation='relu'))\n",
    "model.add(Dense(num_classes, activation='sigmoid'))  # Output layer with softmax activation for classification\n",
    "\n",
    "# Compile the model\n",
    "model.compile(optimizer='adam', loss='sparse_categorical_crossentropy', metrics=['accuracy'])\n",
    "\n",
    "# Train the model using the support set\n",
    "batch_size = 32\n",
    "epochs = 10\n",
    "model.fit(support_set_X, support_set_y, epochs=epochs, batch_size=batch_size, validation_split=0.2)\n",
    "\n",
    "# Evaluate the model on the test data\n",
    "accuracy = model.evaluate(X_test, y_test)[1]\n",
    "print(f\"Test Accuracy: {accuracy*100:.2f}%\")"
   ]
  },
  {
   "cell_type": "code",
   "execution_count": 8,
   "id": "e42b779a-44e1-4308-868c-82f16a4e82d5",
   "metadata": {
    "tags": []
   },
   "outputs": [
    {
     "name": "stdout",
     "output_type": "stream",
     "text": [
      "4/4 [==============================] - 2s 19ms/step\n"
     ]
    },
    {
     "data": {
      "image/png": "[encoded data removed]",
      "text/plain": [
       "<Figure size 600x600 with 1 Axes>"
      ]
     },
     "metadata": {},
     "output_type": "display_data"
    }
   ],
   "source": [
    "# Predict class labels for the test set\n",
    "y_pred = model.predict(X_test)\n",
    "y_pred_classes = np.argmax(y_pred, axis=1)  # Convert predicted probabilities to class labels\n",
    "\n",
    "# Create a confusion matrix\n",
    "cm = confusion_matrix(y_test, y_pred_classes)\n",
    "\n",
    "# Plot the confusion matrix\n",
    "plt.figure(figsize=(6, 6))\n",
    "sns.heatmap(cm, annot=True, fmt='d', cmap='Blues', cbar=False, \n",
    "            xticklabels=['Class 0', 'Class 1'], yticklabels=['Class 0', 'Class 1'])\n",
    "plt.xlabel('Predicted')\n",
    "plt.ylabel('Actual')\n",
    "plt.title('Confusion Matrix')\n",
    "plt.show()"
   ]
  },
  {
   "cell_type": "code",
   "execution_count": 9,
   "id": "2b274e03-907b-42e7-8211-d0dc8b61f8a4",
   "metadata": {
    "tags": []
   },
   "outputs": [
    {
     "name": "stdout",
     "output_type": "stream",
     "text": [
      "Epoch 1/10\n",
      "8/8 [==============================] - 14s 638ms/step - loss: 0.6025 - accuracy: 0.6500 - val_loss: 0.6363 - val_accuracy: 0.6833\n",
      "Epoch 2/10\n",
      "8/8 [==============================] - 1s 149ms/step - loss: 0.4571 - accuracy: 0.8583 - val_loss: 0.8691 - val_accuracy: 0.3500\n",
      "Epoch 3/10\n",
      "8/8 [==============================] - 1s 138ms/step - loss: 0.3552 - accuracy: 0.9167 - val_loss: 0.6107 - val_accuracy: 0.7000\n",
      "Epoch 4/10\n",
      "8/8 [==============================] - 1s 156ms/step - loss: 0.2594 - accuracy: 0.9458 - val_loss: 0.5163 - val_accuracy: 0.7667\n",
      "Epoch 5/10\n",
      "8/8 [==============================] - 1s 180ms/step - loss: 0.1905 - accuracy: 0.9583 - val_loss: 0.4687 - val_accuracy: 0.7833\n",
      "Epoch 6/10\n",
      "8/8 [==============================] - 1s 189ms/step - loss: 0.1295 - accuracy: 0.9792 - val_loss: 0.1650 - val_accuracy: 0.9500\n",
      "Epoch 7/10\n",
      "8/8 [==============================] - 1s 146ms/step - loss: 0.1219 - accuracy: 0.9708 - val_loss: 0.2441 - val_accuracy: 0.9000\n",
      "Epoch 8/10\n",
      "8/8 [==============================] - 1s 111ms/step - loss: 0.0902 - accuracy: 0.9708 - val_loss: 0.3050 - val_accuracy: 0.8667\n",
      "Epoch 9/10\n",
      "8/8 [==============================] - 1s 114ms/step - loss: 0.0775 - accuracy: 0.9750 - val_loss: 0.6920 - val_accuracy: 0.6833\n",
      "Epoch 10/10\n",
      "8/8 [==============================] - 1s 134ms/step - loss: 0.0769 - accuracy: 0.9792 - val_loss: 0.3764 - val_accuracy: 0.8000\n",
      "4/4 [==============================] - 1s 82ms/step - loss: 0.1841 - accuracy: 0.9231\n",
      "Test Accuracy: 92.31%\n"
     ]
    }
   ],
   "source": [
    "# Extract features and labels from your preprocessed data\n",
    "X = data_MMG.drop(columns=['Class']).values\n",
    "y = data_MMG['Class'].values\n",
    "\n",
    "# Split the data into training and test sets\n",
    "X_train, X_test, y_train, y_test = train_test_split(X, y, test_size=0.2, random_state=42)\n",
    "\n",
    "# Encode class labels for binary classification\n",
    "label_encoder = LabelEncoder()\n",
    "y_train_encoded = label_encoder.fit_transform(y_train)\n",
    "y_test_encoded = label_encoder.transform(y_test)\n",
    "\n",
    "# Generating a 2-way, n-shot support set\n",
    "num_classes = 2  # Binary classification\n",
    "num_support_examples_per_class = 150  # n-shot learning\n",
    "support_set_X = []\n",
    "support_set_y = []\n",
    "for class_label in range(num_classes):\n",
    "    class_indices = np.where(y_train_encoded == class_label)[0]\n",
    "    support_indices = np.random.choice(class_indices, num_support_examples_per_class, replace=False)\n",
    "    support_set_X.extend(X_train[support_indices])\n",
    "    support_set_y.extend([class_label] * num_support_examples_per_class)\n",
    "\n",
    "support_set_X = np.array(support_set_X)\n",
    "support_set_y = np.array(support_set_y)\n",
    "\n",
    "# Define a simple feedforward neural network model\n",
    "model = Sequential()\n",
    "model.add(Dense(128, activation='relu', input_shape=(512,)))\n",
    "model.add(Dense(64, activation='relu'))\n",
    "model.add(Dense(num_classes, activation='sigmoid'))  # Output layer with softmax activation for classification\n",
    "\n",
    "# Compile the model\n",
    "model.compile(optimizer='adam', loss='sparse_categorical_crossentropy', metrics=['accuracy'])\n",
    "\n",
    "# Train the model using the support set\n",
    "batch_size = 32\n",
    "epochs = 10\n",
    "model.fit(support_set_X, support_set_y, epochs=epochs, batch_size=batch_size, validation_split=0.2)\n",
    "\n",
    "# Evaluate the model on the test data\n",
    "accuracy = model.evaluate(X_test, y_test)[1]\n",
    "print(f\"Test Accuracy: {accuracy*100:.2f}%\")"
   ]
  },
  {
   "cell_type": "code",
   "execution_count": 10,
   "id": "edca390e-b950-417c-8efc-c789dcb7b936",
   "metadata": {
    "tags": []
   },
   "outputs": [
    {
     "name": "stdout",
     "output_type": "stream",
     "text": [
      "4/4 [==============================] - 1s 25ms/step\n"
     ]
    },
    {
     "data": {
      "image/png": "[encoded data removed]",
      "text/plain": [
       "<Figure size 600x600 with 1 Axes>"
      ]
     },
     "metadata": {},
     "output_type": "display_data"
    }
   ],
   "source": [
    "# Predict class labels for the test set\n",
    "y_pred = model.predict(X_test)\n",
    "y_pred_classes = np.argmax(y_pred, axis=1)  # Convert predicted probabilities to class labels\n",
    "\n",
    "# Create a confusion matrix\n",
    "cm = confusion_matrix(y_test, y_pred_classes)\n",
    "\n",
    "# Plot the confusion matrix\n",
    "plt.figure(figsize=(6, 6))\n",
    "sns.heatmap(cm, annot=True, fmt='d', cmap='Blues', cbar=False, \n",
    "            xticklabels=['Class 0', 'Class 1'], yticklabels=['Class 0', 'Class 1'])\n",
    "plt.xlabel('Predicted')\n",
    "plt.ylabel('Actual')\n",
    "plt.title('Confusion Matrix')\n",
    "plt.show()"
   ]
  },
  {
   "cell_type": "code",
   "execution_count": 11,
   "id": "f396d7ae-9aad-45fb-875a-38c84daff01b",
   "metadata": {
    "tags": []
   },
   "outputs": [
    {
     "name": "stdout",
     "output_type": "stream",
     "text": [
      "Epoch 1/10\n",
      "15/15 [==============================] - 13s 298ms/step - loss: 0.6056 - accuracy: 0.6354 - val_loss: 0.4384 - val_accuracy: 0.9083\n",
      "Epoch 2/10\n",
      "15/15 [==============================] - 1s 73ms/step - loss: 0.3372 - accuracy: 0.8896 - val_loss: 0.5675 - val_accuracy: 0.7250\n",
      "Epoch 3/10\n",
      "15/15 [==============================] - 1s 80ms/step - loss: 0.1485 - accuracy: 0.9729 - val_loss: 0.1144 - val_accuracy: 0.9833\n",
      "Epoch 4/10\n",
      "15/15 [==============================] - 1s 70ms/step - loss: 0.0583 - accuracy: 1.0000 - val_loss: 0.0703 - val_accuracy: 0.9833\n",
      "Epoch 5/10\n",
      "15/15 [==============================] - 2s 122ms/step - loss: 0.0219 - accuracy: 1.0000 - val_loss: 0.0168 - val_accuracy: 1.0000\n",
      "Epoch 6/10\n",
      "15/15 [==============================] - 1s 73ms/step - loss: 0.0116 - accuracy: 1.0000 - val_loss: 0.0238 - val_accuracy: 0.9833\n",
      "Epoch 7/10\n",
      "15/15 [==============================] - 1s 74ms/step - loss: 0.0071 - accuracy: 1.0000 - val_loss: 0.0305 - val_accuracy: 0.9833\n",
      "Epoch 8/10\n",
      "15/15 [==============================] - 1s 68ms/step - loss: 0.0040 - accuracy: 1.0000 - val_loss: 0.0724 - val_accuracy: 0.9667\n",
      "Epoch 9/10\n",
      "15/15 [==============================] - 1s 82ms/step - loss: 0.0026 - accuracy: 1.0000 - val_loss: 0.0276 - val_accuracy: 0.9833\n",
      "Epoch 10/10\n",
      "15/15 [==============================] - 1s 83ms/step - loss: 0.0023 - accuracy: 1.0000 - val_loss: 0.0386 - val_accuracy: 0.9833\n",
      "7/7 [==============================] - 1s 49ms/step - loss: 0.0838 - accuracy: 0.9710\n",
      "Test Accuracy: 97.10%\n"
     ]
    }
   ],
   "source": [
    "# Extract features and labels from your preprocessed data\n",
    "X = data_multimodal.drop(columns=['Class']).values\n",
    "y = data_multimodal['Class'].values\n",
    "\n",
    "# Split the data into training and test sets\n",
    "X_train, X_test, y_train, y_test = train_test_split(X, y, test_size=0.4, random_state=42)\n",
    "\n",
    "# Encode class labels for binary classification\n",
    "label_encoder = LabelEncoder()\n",
    "y_train_encoded = label_encoder.fit_transform(y_train)\n",
    "y_test_encoded = label_encoder.transform(y_test)\n",
    "\n",
    "# Generating a 2-way, n-shot support set\n",
    "num_classes = 2  # Binary classification\n",
    "num_support_examples_per_class = 300  # n-shot learning\n",
    "support_set_X = []\n",
    "support_set_y = []\n",
    "for class_label in range(num_classes):\n",
    "    class_indices = np.where(y_train_encoded == class_label)[0]\n",
    "    support_indices = np.random.choice(class_indices, num_support_examples_per_class, replace=True)\n",
    "    support_set_X.extend(X_train[support_indices])\n",
    "    support_set_y.extend([class_label] * num_support_examples_per_class)\n",
    "\n",
    "support_set_X = np.array(support_set_X)\n",
    "support_set_y = np.array(support_set_y)\n",
    "\n",
    "# Define a simple feedforward neural network model\n",
    "model = Sequential()\n",
    "model.add(Dense(128, activation='relu', input_shape=(1024,)))\n",
    "model.add(Dense(64, activation='relu'))\n",
    "model.add(Dense(num_classes, activation='sigmoid'))  # Output layer with softmax activation for classification\n",
    "\n",
    "# Compile the model\n",
    "model.compile(optimizer='adam', loss='sparse_categorical_crossentropy', metrics=['accuracy'])\n",
    "\n",
    "# Train the model using the support set\n",
    "batch_size = 32\n",
    "epochs = 10\n",
    "model.fit(support_set_X, support_set_y, epochs=epochs, batch_size=batch_size, validation_split=0.2)\n",
    "\n",
    "# Evaluate the model on the test data\n",
    "accuracy = model.evaluate(X_test, y_test)[1]\n",
    "print(f\"Test Accuracy: {accuracy*100:.2f}%\")"
   ]
  },
  {
   "cell_type": "code",
   "execution_count": 12,
   "id": "52929562-bbe7-4670-8355-6cccc81411ef",
   "metadata": {
    "tags": []
   },
   "outputs": [
    {
     "name": "stdout",
     "output_type": "stream",
     "text": [
      "7/7 [==============================] - 2s 58ms/step\n"
     ]
    },
    {
     "data": {
      "image/png": "[encoded data removed]",
      "text/plain": [
       "<Figure size 600x600 with 1 Axes>"
      ]
     },
     "metadata": {},
     "output_type": "display_data"
    }
   ],
   "source": [
    "# Predict class labels for the test set\n",
    "y_pred = model.predict(X_test)\n",
    "y_pred_classes = np.argmax(y_pred, axis=1)  # Convert predicted probabilities to class labels\n",
    "\n",
    "# Create a confusion matrix\n",
    "cm = confusion_matrix(y_test, y_pred_classes)\n",
    "\n",
    "# Plot the confusion matrix\n",
    "plt.figure(figsize=(6, 6))\n",
    "sns.heatmap(cm, annot=True, fmt='d', cmap='Blues', cbar=False, \n",
    "            xticklabels=['Class 0', 'Class 1'], yticklabels=['Class 0', 'Class 1'])\n",
    "plt.xlabel('Predicted')\n",
    "plt.ylabel('Actual')\n",
    "plt.title('Confusion Matrix')\n",
    "plt.show()"
   ]
  }
 ],
 "metadata": {
  "kernelspec": {
   "display_name": "Python 3 (ipykernel)",
   "language": "python",
   "name": "python3"
  },
  "language_info": {
   "codemirror_mode": {
    "name": "ipython",
    "version": 3
   },
   "file_extension": ".py",
   "mimetype": "text/x-python",
   "name": "python",
   "nbconvert_exporter": "python",
   "pygments_lexer": "ipython3",
   "version": "3.10.13"
  }
 },
 "nbformat": 4,
 "nbformat_minor": 5
}
