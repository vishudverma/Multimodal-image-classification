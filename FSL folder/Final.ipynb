{
 "cells": [
  {
   "cell_type": "code",
   "execution_count": 2,
   "id": "ed684f96-6ddc-4e27-ab38-dfde3f4ec517",
   "metadata": {
    "tags": []
   },
   "outputs": [
    {
     "name": "stdout",
     "output_type": "stream",
     "text": [
      "Done!\n"
     ]
    }
   ],
   "source": [
    "import os\n",
    "import torch\n",
    "import numpy as np\n",
    "import pandas as pd\n",
    "import torch.nn as nn\n",
    "import torch.optim as optim\n",
    "import matplotlib.pyplot as plt\n",
    "import torchvision.models as models\n",
    "from sklearn.metrics import accuracy_score\n",
    "from sklearn.preprocessing import LabelEncoder\n",
    "print('Done!')"
   ]
  },
  {
   "cell_type": "code",
   "execution_count": 3,
   "id": "3322462b-9961-48f2-b3f5-4937278e2547",
   "metadata": {
    "tags": []
   },
   "outputs": [
    {
     "name": "stdout",
     "output_type": "stream",
     "text": [
      "Done!\n"
     ]
    }
   ],
   "source": [
    "# Load of all the .csv files containing extracted image features\n",
    "data_USG = pd.read_csv(\"Features/Ultrasound features.csv\")\n",
    "data_MMG = pd.read_csv(\"Features/Mammogram features.csv\")\n",
    "data_multimodal = pd.read_csv(\"Features/multimodal features.csv\")\n",
    "print('Done!')"
   ]
  },
  {
   "cell_type": "code",
   "execution_count": 4,
   "id": "8098d21d-13ab-42aa-bea7-b9c5438030aa",
   "metadata": {
    "tags": []
   },
   "outputs": [
    {
     "name": "stdout",
     "output_type": "stream",
     "text": [
      "Done!\n"
     ]
    }
   ],
   "source": [
    "#For one hot encoding the labels this tab is required\n",
    "class_mapping = {\n",
    "    'B': 0,\n",
    "    'M': 1,\n",
    "}\n",
    "num_classes = 2\n",
    "\n",
    "label_encoder = LabelEncoder()\n",
    "data_USG['Class'] = label_encoder.fit_transform(data_USG['Class'])\n",
    "data_MMG['Class'] = label_encoder.fit_transform(data_MMG['Class'])\n",
    "data_multimodal['Class'] = label_encoder.fit_transform(data_multimodal['Class'])\n",
    "print('Done!')"
   ]
  },
  {
   "cell_type": "code",
   "execution_count": 5,
   "id": "16e5115f-87c3-4d50-824e-02340bb54e61",
   "metadata": {
    "tags": []
   },
   "outputs": [],
   "source": [
    "class SelfAttentionBlock(nn.Module):\n",
    "    def __init__(self, input_dim, output_dim, num_heads=2):\n",
    "        super(SelfAttentionBlock, self).__init__()\n",
    "        self.num_heads = num_heads\n",
    "        self.head_dim = input_dim // num_heads\n",
    "        \n",
    "        # Multihead self-attention mechanism\n",
    "        self.multihead_attention = nn.MultiheadAttention(input_dim, num_heads)\n",
    "        \n",
    "        # Feedforward neural network\n",
    "        self.feedforward = nn.Sequential(\n",
    "            nn.Linear(input_dim, output_dim),\n",
    "            nn.ReLU(),\n",
    "            nn.Linear(output_dim, input_dim)\n",
    "        )\n",
    "        \n",
    "        # Layer normalization\n",
    "        self.layer_norm1 = nn.LayerNorm(input_dim)\n",
    "        self.layer_norm2 = nn.LayerNorm(input_dim)\n",
    "        \n",
    "    def forward(self, x):\n",
    "        # Get the input shape dynamically\n",
    "        batch_size, feature_dim = x.size()\n",
    "        \n",
    "        # Reshape the input to include a sequence length dimension\n",
    "        x = x.view(batch_size, 1, feature_dim)\n",
    "        \n",
    "        # Apply layer normalization\n",
    "        x_norm = self.layer_norm1(x)\n",
    "        \n",
    "        # Multihead self-attention\n",
    "        attention_output, _ = self.multihead_attention(x_norm, x_norm, x_norm)\n",
    "        \n",
    "        # Residual connection and layer normalization\n",
    "        x_residual = x + attention_output\n",
    "        x_norm2 = self.layer_norm2(x_residual)\n",
    "        \n",
    "        # Remove the sequence length dimension\n",
    "        output = x_norm2.view(batch_size, feature_dim)\n",
    "        \n",
    "        # Feedforward network\n",
    "        output = self.feedforward(output)\n",
    "        \n",
    "        return output\n"
   ]
  },
  {
   "cell_type": "code",
   "execution_count": 6,
   "id": "179ccd87-23dd-475d-9e90-c1df1c201c9a",
   "metadata": {
    "tags": []
   },
   "outputs": [],
   "source": [
    "class SNAILFewShot(nn.Module):\n",
    "    def __init__(self, input_dim, output_dim):\n",
    "        super(SNAILFewShot, self).__init__()\n",
    "        \n",
    "        # Define the SelfAttentionBlock\n",
    "        self.self_attention = SelfAttentionBlock(input_dim, output_dim)\n",
    "        \n",
    "        # Additional layers if needed for adaptation\n",
    "        self.fc1 = nn.Linear(input_dim, output_dim)\n",
    "        \n",
    "        # Classification layer for few-shot learning\n",
    "        self.fc2 = nn.Linear(output_dim, output_dim)  # Output dimension may vary\n",
    "        \n",
    "    def forward(self, x):\n",
    "        # Apply SelfAttentionBlock\n",
    "        x = self.self_attention(x)\n",
    "        \n",
    "        # Additional adaptation layers\n",
    "        x = self.fc1(x)\n",
    "        \n",
    "        # Classification layer\n",
    "        x = self.fc2(x)\n",
    "        \n",
    "        return x"
   ]
  },
  {
   "cell_type": "code",
   "execution_count": 7,
   "id": "3f265612-e2bd-4044-ab02-77f63315a849",
   "metadata": {
    "tags": []
   },
   "outputs": [
    {
     "name": "stdout",
     "output_type": "stream",
     "text": [
      "Epoch 1/10, Accuracy: 41.86%\n",
      "Epoch 2/10, Accuracy: 41.86%\n",
      "Epoch 3/10, Accuracy: 41.86%\n",
      "Epoch 4/10, Accuracy: 41.86%\n",
      "Epoch 5/10, Accuracy: 41.86%\n",
      "Epoch 6/10, Accuracy: 41.86%\n",
      "Epoch 7/10, Accuracy: 41.86%\n",
      "Epoch 8/10, Accuracy: 41.86%\n",
      "Epoch 9/10, Accuracy: 41.86%\n",
      "Epoch 10/10, Accuracy: 41.86%\n"
     ]
    }
   ],
   "source": [
    "# 1. Preprocess the data from the DataFrame\n",
    "# Extract the features (512 features) and labels from the DataFrame\n",
    "features_USG = data_USG.iloc[:, :-1].values  # Exclude the last column (labels)\n",
    "labels_USG = data_USG.iloc[:, -1].values  # Extract the labels\n",
    "\n",
    "# Convert the features and labels to PyTorch tensors\n",
    "input_data = torch.FloatTensor(features_USG)\n",
    "ground_truth_labels = torch.LongTensor(labels_USG)  # Assuming labels are 0 and 1\n",
    "\n",
    "# 2. Create an instance of the SNAILWithResNet model\n",
    "# Define the input dimension (512 features) and output dimension (2 for binary classification)\n",
    "input_dim = 512\n",
    "output_dim = 2\n",
    "snail_model = SNAILFewShot(input_dim, output_dim)\n",
    "\n",
    "# Define the number of epochs\n",
    "epochs = 10\n",
    "\n",
    "# 3. Training loop for multiple epochs\n",
    "for epoch in range(epochs):\n",
    "    # Pass the data to the model to obtain predictions\n",
    "    with torch.no_grad():\n",
    "        predictions = snail_model(input_data)\n",
    "\n",
    "    # 4. Evaluate the model's predictions for binary classification\n",
    "    # Apply a threshold (e.g., 0.5) to obtain binary predictions\n",
    "    threshold = 0.5\n",
    "    binary_predictions = (predictions[:, 1] > threshold).to(torch.int)  # Assuming class 1 is the positive class\n",
    "\n",
    "    # Calculate accuracy\n",
    "    accuracy = accuracy_score(ground_truth_labels, binary_predictions)\n",
    "\n",
    "    # Print the accuracy as a whole number\n",
    "    print(f\"Epoch {epoch + 1}/{epochs}, Accuracy: {accuracy * 100:.2f}%\")"
   ]
  },
  {
   "cell_type": "code",
   "execution_count": 8,
   "id": "8eccb792-30a5-4fff-8a48-c75b70b683d3",
   "metadata": {},
   "outputs": [
    {
     "name": "stdout",
     "output_type": "stream",
     "text": [
      "Epoch 1/10, Accuracy: 58.14%\n",
      "Epoch 2/10, Accuracy: 58.14%\n",
      "Epoch 3/10, Accuracy: 58.14%\n",
      "Epoch 4/10, Accuracy: 58.14%\n",
      "Epoch 5/10, Accuracy: 58.14%\n",
      "Epoch 6/10, Accuracy: 58.14%\n",
      "Epoch 7/10, Accuracy: 58.14%\n",
      "Epoch 8/10, Accuracy: 58.14%\n",
      "Epoch 9/10, Accuracy: 58.14%\n",
      "Epoch 10/10, Accuracy: 58.14%\n"
     ]
    }
   ],
   "source": [
    "# 1. Preprocess the data from the DataFrame\n",
    "# Extract the features (512 features) and labels from the DataFrame\n",
    "features_MMG = data_MMG.iloc[:, :-1].values  # Exclude the last column (labels)\n",
    "labels_MMG = data_MMG.iloc[:, -1].values  # Extract the labels\n",
    "\n",
    "# Convert the features and labels to PyTorch tensors\n",
    "input_data = torch.FloatTensor(features_MMG)\n",
    "ground_truth_labels = torch.LongTensor(labels_MMG)  # Assuming labels are 0 and 1\n",
    "\n",
    "# 2. Create an instance of the SNAILWithResNet model\n",
    "# Define the input dimension (512 features) and output dimension (2 for binary classification)\n",
    "input_dim = 512\n",
    "output_dim = 2\n",
    "snail_model = SNAILFewShot(input_dim, output_dim)\n",
    "\n",
    "# Define the number of epochs\n",
    "epochs = 10\n",
    "\n",
    "# 3. Training loop for multiple epochs\n",
    "for epoch in range(epochs):\n",
    "    # Pass the data to the model to obtain predictions\n",
    "    with torch.no_grad():\n",
    "        predictions = snail_model(input_data)\n",
    "\n",
    "    # 4. Evaluate the model's predictions for binary classification\n",
    "    # Apply a threshold (e.g., 0.5) to obtain binary predictions\n",
    "    threshold = 0.5\n",
    "    binary_predictions = (predictions[:, 1] > threshold).to(torch.int)  # Assuming class 1 is the positive class\n",
    "\n",
    "    # Calculate accuracy\n",
    "    accuracy = accuracy_score(ground_truth_labels, binary_predictions)\n",
    "\n",
    "    # Print the accuracy as a whole number\n",
    "    print(f\"Epoch {epoch + 1}/{epochs}, Accuracy: {accuracy * 100:.2f}%\")"
   ]
  },
  {
   "cell_type": "code",
   "execution_count": 9,
   "id": "8a61629b-267f-4d73-9864-1dcf032e8683",
   "metadata": {
    "tags": []
   },
   "outputs": [
    {
     "name": "stdout",
     "output_type": "stream",
     "text": [
      "Epoch 1/20, Accuracy: 58.14%\n",
      "Epoch 2/20, Accuracy: 58.14%\n",
      "Epoch 3/20, Accuracy: 58.14%\n",
      "Epoch 4/20, Accuracy: 58.14%\n",
      "Epoch 5/20, Accuracy: 58.14%\n",
      "Epoch 6/20, Accuracy: 58.14%\n",
      "Epoch 7/20, Accuracy: 58.14%\n",
      "Epoch 8/20, Accuracy: 58.14%\n",
      "Epoch 9/20, Accuracy: 58.14%\n",
      "Epoch 10/20, Accuracy: 58.14%\n",
      "Epoch 11/20, Accuracy: 58.14%\n",
      "Epoch 12/20, Accuracy: 58.14%\n",
      "Epoch 13/20, Accuracy: 58.14%\n",
      "Epoch 14/20, Accuracy: 58.14%\n",
      "Epoch 15/20, Accuracy: 58.14%\n",
      "Epoch 16/20, Accuracy: 58.14%\n",
      "Epoch 17/20, Accuracy: 58.14%\n",
      "Epoch 18/20, Accuracy: 58.14%\n",
      "Epoch 19/20, Accuracy: 58.14%\n",
      "Epoch 20/20, Accuracy: 58.14%\n"
     ]
    }
   ],
   "source": [
    "# 1. Preprocess the data from the DataFrame\n",
    "# Extract the features (1024 features) and labels from the DataFrame\n",
    "features = data_multimodal.iloc[:, :-1].values  # Exclude the last column (labels)\n",
    "labels = data_multimodal.iloc[:, -1].values  # Extract the labels\n",
    "\n",
    "# Convert the features and labels to PyTorch tensors\n",
    "input_data = torch.FloatTensor(features)\n",
    "ground_truth_labels = torch.LongTensor(labels)  # Assuming labels are 0 and 1\n",
    "\n",
    "# 2. Create an instance of the SNAILWithResNet model\n",
    "# Define the input dimension (512 features) and output dimension (2 for binary classification)\n",
    "input_dim = 1024\n",
    "output_dim = 2\n",
    "snail_model = SNAILFewShot(input_dim, output_dim)\n",
    "\n",
    "# Define the number of epochs\n",
    "epochs = 20\n",
    "\n",
    "# 3. Training loop for multiple epochs\n",
    "for epoch in range(epochs):\n",
    "    # Pass the data to the model to obtain predictions\n",
    "    with torch.no_grad():\n",
    "        predictions = snail_model(input_data)\n",
    "\n",
    "    # 4. Evaluate the model's predictions for binary classification\n",
    "    # Apply a threshold (e.g., 0.5) to obtain binary predictions\n",
    "    threshold = 0.5\n",
    "    binary_predictions = (predictions[:, 1] > threshold).to(torch.int)  # Assuming class 1 is the positive class\n",
    "\n",
    "    # Calculate accuracy\n",
    "    accuracy = accuracy_score(ground_truth_labels, binary_predictions)\n",
    "\n",
    "    # Print the accuracy as a whole number\n",
    "    print(f\"Epoch {epoch + 1}/{epochs}, Accuracy: {accuracy * 100:.2f}%\")"
   ]
  },
  {
   "cell_type": "code",
   "execution_count": null,
   "id": "0dbe416b-7538-4863-aa2b-a4430334758a",
   "metadata": {},
   "outputs": [],
   "source": []
  }
 ],
 "metadata": {
  "kernelspec": {
   "display_name": "Python 3 (ipykernel)",
   "language": "python",
   "name": "python3"
  },
  "language_info": {
   "codemirror_mode": {
    "name": "ipython",
    "version": 3
   },
   "file_extension": ".py",
   "mimetype": "text/x-python",
   "name": "python",
   "nbconvert_exporter": "python",
   "pygments_lexer": "ipython3",
   "version": "3.10.13"
  }
 },
 "nbformat": 4,
 "nbformat_minor": 5
}
