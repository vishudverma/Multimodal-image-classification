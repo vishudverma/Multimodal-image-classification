{
 "cells": [
  {
   "cell_type": "code",
   "execution_count": 1,
   "id": "ebbd9398",
   "metadata": {
    "tags": []
   },
   "outputs": [],
   "source": [
    "import keras\n",
    "import time\n",
    "import os\n",
    "import copy\n",
    "import numpy as np\n",
    "import pandas as pd\n",
    "import tensorflow as tf\n",
    "import seaborn as sns\n",
    "from tensorflow.keras.layers import Input, Dense, Flatten, Activation\n",
    "from tensorflow.keras.models import Model\n",
    "from tensorflow.keras.optimizers import Adam\n",
    "from tensorflow.keras.models import Sequential\n",
    "from tensorflow.keras.utils import to_categorical\n",
    "from sklearn.model_selection import train_test_split\n",
    "import matplotlib.pyplot as plt\n",
    "from sklearn.preprocessing import LabelEncoder\n",
    "from sklearn.metrics import confusion_matrix"
   ]
  },
  {
   "cell_type": "code",
   "execution_count": 2,
   "id": "52573920",
   "metadata": {
    "tags": []
   },
   "outputs": [
    {
     "data": {
      "text/plain": [
       "'C:\\\\Users\\\\vishu\\\\FSL folder'"
      ]
     },
     "execution_count": 2,
     "metadata": {},
     "output_type": "execute_result"
    }
   ],
   "source": [
    "os.getcwd()"
   ]
  },
  {
   "cell_type": "code",
   "execution_count": 3,
   "id": "07976ff3",
   "metadata": {
    "tags": []
   },
   "outputs": [],
   "source": [
    "# Load of all the .csv files containing extracted image features\n",
    "data_USG = pd.read_csv(\"Features/Ultrasound features.csv\")\n",
    "data_MMG = pd.read_csv(\"Features/Mammogram features.csv\")\n",
    "data_multimodal = pd.read_csv(\"Features/multimodal features.csv\")"
   ]
  },
  {
   "cell_type": "code",
   "execution_count": null,
   "id": "0b497177",
   "metadata": {
    "tags": []
   },
   "outputs": [],
   "source": [
    "display(data_USG)"
   ]
  },
  {
   "cell_type": "code",
   "execution_count": null,
   "id": "091b4944",
   "metadata": {
    "tags": []
   },
   "outputs": [],
   "source": [
    "display(data_MMG)"
   ]
  },
  {
   "cell_type": "code",
   "execution_count": null,
   "id": "f5572b01",
   "metadata": {
    "scrolled": true,
    "tags": []
   },
   "outputs": [],
   "source": [
    "display(data_multimodal)"
   ]
  },
  {
   "cell_type": "code",
   "execution_count": 4,
   "id": "edb30101-c06b-45bf-8829-3d97bed575c4",
   "metadata": {
    "tags": []
   },
   "outputs": [],
   "source": [
    "os.environ[\"CUDA_DEVICE_ORDER\"]=\"PCI_BUS_ID\"\n",
    "os.environ[\"CUDA_VISIBLE_DEVICES\"]=\"0,2,3,4\"\n",
    "device = os.environ[\"CUDA_VISIBLE_DEVICES\"]"
   ]
  },
  {
   "cell_type": "code",
   "execution_count": 5,
   "id": "aa066fbd-5ce3-45ab-a5f2-333f24d50ebf",
   "metadata": {
    "tags": []
   },
   "outputs": [],
   "source": [
    "class_mapping = {\n",
    "    'B': 0,\n",
    "    'M': 1,\n",
    "}\n",
    "num_classes = 2\n",
    "\n",
    "label_encoder = LabelEncoder()\n",
    "data_USG['Class'] = label_encoder.fit_transform(data_USG['Class'])\n",
    "data_MMG['Class'] = label_encoder.fit_transform(data_MMG['Class'])\n",
    "data_multimodal['Class'] = label_encoder.fit_transform(data_multimodal['Class'])"
   ]
  },
  {
   "cell_type": "code",
   "execution_count": 6,
   "id": "e9c315f4-8b96-42a1-aea2-c1528ae38e30",
   "metadata": {
    "tags": []
   },
   "outputs": [
    {
     "name": "stdout",
     "output_type": "stream",
     "text": [
      "Epoch 1/50\n",
      "17/17 [==============================] - 1s 4ms/step - loss: 0.6053\n",
      "Epoch 2/50\n",
      "17/17 [==============================] - 0s 4ms/step - loss: 0.4951\n",
      "Epoch 3/50\n",
      "17/17 [==============================] - 0s 4ms/step - loss: 0.4795\n",
      "Epoch 4/50\n",
      "17/17 [==============================] - 0s 4ms/step - loss: 0.4703\n",
      "Epoch 5/50\n",
      "17/17 [==============================] - 0s 5ms/step - loss: 0.4622\n",
      "Epoch 6/50\n",
      "17/17 [==============================] - 0s 4ms/step - loss: 0.4565\n",
      "Epoch 7/50\n",
      "17/17 [==============================] - 0s 4ms/step - loss: 0.4507\n",
      "Epoch 8/50\n",
      "17/17 [==============================] - 0s 5ms/step - loss: 0.4456\n",
      "Epoch 9/50\n",
      "17/17 [==============================] - 0s 4ms/step - loss: 0.4416\n",
      "Epoch 10/50\n",
      "17/17 [==============================] - 0s 4ms/step - loss: 0.4383\n",
      "Epoch 11/50\n",
      "17/17 [==============================] - 0s 4ms/step - loss: 0.4357\n",
      "Epoch 12/50\n",
      "17/17 [==============================] - 0s 4ms/step - loss: 0.4330\n",
      "Epoch 13/50\n",
      "17/17 [==============================] - 0s 4ms/step - loss: 0.4308\n",
      "Epoch 14/50\n",
      "17/17 [==============================] - 0s 3ms/step - loss: 0.4285\n",
      "Epoch 15/50\n",
      "17/17 [==============================] - 0s 4ms/step - loss: 0.4267\n",
      "Epoch 16/50\n",
      "17/17 [==============================] - 0s 4ms/step - loss: 0.4250\n",
      "Epoch 17/50\n",
      "17/17 [==============================] - 0s 4ms/step - loss: 0.4234\n",
      "Epoch 18/50\n",
      "17/17 [==============================] - 0s 4ms/step - loss: 0.4219\n",
      "Epoch 19/50\n",
      "17/17 [==============================] - 0s 4ms/step - loss: 0.4208\n",
      "Epoch 20/50\n",
      "17/17 [==============================] - 0s 4ms/step - loss: 0.4195\n",
      "Epoch 21/50\n",
      "17/17 [==============================] - 0s 4ms/step - loss: 0.4184\n",
      "Epoch 22/50\n",
      "17/17 [==============================] - 0s 4ms/step - loss: 0.4175\n",
      "Epoch 23/50\n",
      "17/17 [==============================] - 0s 4ms/step - loss: 0.4166\n",
      "Epoch 24/50\n",
      "17/17 [==============================] - 0s 4ms/step - loss: 0.4157\n",
      "Epoch 25/50\n",
      "17/17 [==============================] - 0s 4ms/step - loss: 0.4152\n",
      "Epoch 26/50\n",
      "17/17 [==============================] - 0s 4ms/step - loss: 0.4142\n",
      "Epoch 27/50\n",
      "17/17 [==============================] - 0s 4ms/step - loss: 0.4136\n",
      "Epoch 28/50\n",
      "17/17 [==============================] - 0s 4ms/step - loss: 0.4128\n",
      "Epoch 29/50\n",
      "17/17 [==============================] - 0s 4ms/step - loss: 0.4121\n",
      "Epoch 30/50\n",
      "17/17 [==============================] - 0s 4ms/step - loss: 0.4115\n",
      "Epoch 31/50\n",
      "17/17 [==============================] - 0s 4ms/step - loss: 0.4109\n",
      "Epoch 32/50\n",
      "17/17 [==============================] - 0s 4ms/step - loss: 0.4105\n",
      "Epoch 33/50\n",
      "17/17 [==============================] - 0s 4ms/step - loss: 0.4100\n",
      "Epoch 34/50\n",
      "17/17 [==============================] - 0s 4ms/step - loss: 0.4093\n",
      "Epoch 35/50\n",
      "17/17 [==============================] - 0s 4ms/step - loss: 0.4088\n",
      "Epoch 36/50\n",
      "17/17 [==============================] - 0s 4ms/step - loss: 0.4085\n",
      "Epoch 37/50\n",
      "17/17 [==============================] - 0s 4ms/step - loss: 0.4081\n",
      "Epoch 38/50\n",
      "17/17 [==============================] - 0s 4ms/step - loss: 0.4076\n",
      "Epoch 39/50\n",
      "17/17 [==============================] - 0s 4ms/step - loss: 0.4073\n",
      "Epoch 40/50\n",
      "17/17 [==============================] - 0s 4ms/step - loss: 0.4070\n",
      "Epoch 41/50\n",
      "17/17 [==============================] - 0s 4ms/step - loss: 0.4066\n",
      "Epoch 42/50\n",
      "17/17 [==============================] - 0s 4ms/step - loss: 0.4063\n",
      "Epoch 43/50\n",
      "17/17 [==============================] - 0s 5ms/step - loss: 0.4059\n",
      "Epoch 44/50\n",
      "17/17 [==============================] - 0s 4ms/step - loss: 0.4056\n",
      "Epoch 45/50\n",
      "17/17 [==============================] - 0s 4ms/step - loss: 0.4053\n",
      "Epoch 46/50\n",
      "17/17 [==============================] - 0s 4ms/step - loss: 0.4050\n",
      "Epoch 47/50\n",
      "17/17 [==============================] - 0s 4ms/step - loss: 0.4047\n",
      "Epoch 48/50\n",
      "17/17 [==============================] - 0s 5ms/step - loss: 0.4045\n",
      "Epoch 49/50\n",
      "17/17 [==============================] - 0s 4ms/step - loss: 0.4042\n",
      "Epoch 50/50\n",
      "17/17 [==============================] - 0s 4ms/step - loss: 0.4039\n"
     ]
    }
   ],
   "source": [
    "# pretraining a neural network\n",
    "X_pretrain =  data_USG.drop(columns=['Class']).values\n",
    "\n",
    "# Define an autoencoder architecture\n",
    "input_layer = Input(shape=(512,))\n",
    "autoencoder_input = Input(shape=(512,))  # Adjust input_shape as needed\n",
    "autoencoder_hidden_1 = Dense(256, activation='relu')(autoencoder_input)\n",
    "autoencoder_hidden_2 = Dense(128, activation='relu')(autoencoder_hidden_1)\n",
    "autoencoder_output = Dense(512, activation='sigmoid')(autoencoder_hidden_2)\n",
    "\n",
    "autoencoder_model_USG = Model(autoencoder_input, autoencoder_output)\n",
    "\n",
    "# Compile the autoencoder (minimize reconstruction error)\n",
    "autoencoder_model_USG.compile(optimizer='adam', loss='binary_crossentropy')\n",
    "\n",
    "# Train the autoencoder\n",
    "autoencoder_model_USG.fit(X_pretrain, X_pretrain, epochs=50, batch_size=32)\n",
    "\n",
    "# Save the pre-trained weights\n",
    "autoencoder_model_USG.save_weights('Weights/pretrained_weights_USG.h5')"
   ]
  },
  {
   "cell_type": "code",
   "execution_count": 7,
   "id": "acf81985-17aa-479c-a393-446ce73b43f7",
   "metadata": {
    "tags": []
   },
   "outputs": [
    {
     "name": "stdout",
     "output_type": "stream",
     "text": [
      "Epoch 1/10\n",
      "11/11 [==============================] - 1s 42ms/step - loss: 0.7121 - accuracy: 0.6231 - val_loss: 0.5412 - val_accuracy: 0.7349\n",
      "Epoch 2/10\n",
      "11/11 [==============================] - 0s 10ms/step - loss: 0.4038 - accuracy: 0.8024 - val_loss: 0.4501 - val_accuracy: 0.7470\n",
      "Epoch 3/10\n",
      "11/11 [==============================] - 0s 8ms/step - loss: 0.2871 - accuracy: 0.8845 - val_loss: 0.3940 - val_accuracy: 0.8193\n",
      "Epoch 4/10\n",
      "11/11 [==============================] - 0s 12ms/step - loss: 0.2299 - accuracy: 0.9240 - val_loss: 0.3236 - val_accuracy: 0.8072\n",
      "Epoch 5/10\n",
      "11/11 [==============================] - 0s 12ms/step - loss: 0.1740 - accuracy: 0.9544 - val_loss: 0.2865 - val_accuracy: 0.8554\n",
      "Epoch 6/10\n",
      "11/11 [==============================] - 0s 11ms/step - loss: 0.1368 - accuracy: 0.9696 - val_loss: 0.3340 - val_accuracy: 0.8193\n",
      "Epoch 7/10\n",
      "11/11 [==============================] - 0s 8ms/step - loss: 0.1275 - accuracy: 0.9605 - val_loss: 0.2237 - val_accuracy: 0.8916\n",
      "Epoch 8/10\n",
      "11/11 [==============================] - 0s 8ms/step - loss: 0.0966 - accuracy: 0.9818 - val_loss: 0.2030 - val_accuracy: 0.9036\n",
      "Epoch 9/10\n",
      "11/11 [==============================] - 0s 10ms/step - loss: 0.0780 - accuracy: 0.9939 - val_loss: 0.1951 - val_accuracy: 0.9157\n",
      "Epoch 10/10\n",
      "11/11 [==============================] - 0s 9ms/step - loss: 0.0625 - accuracy: 0.9970 - val_loss: 0.1729 - val_accuracy: 0.9277\n",
      "4/4 [==============================] - 0s 4ms/step - loss: 0.1093 - accuracy: 0.9615\n",
      "Test Loss: 0.1093, Test Accuracy: 96.15%\n"
     ]
    }
   ],
   "source": [
    "# Load your data  'data_USG'\n",
    "# X should contain your features, and 'Class' should contain binary labels (0 or 1)\n",
    "X = data_USG.drop(columns=['Class']).values\n",
    "y = data_USG['Class'].values.reshape(-1, 1)\n",
    "\n",
    "# data split\n",
    "X_train_USG, X_test_USG, y_train_USG, y_test_USG = train_test_split(X, y, test_size=0.2, random_state=42)\n",
    "\n",
    "# Model defintion.\n",
    "model = Sequential()\n",
    "model.add(Dense(256, activation='relu', input_shape=(512,)))  # Adjust input_shape as needed\n",
    "model.add(Dense(128, activation='relu'))\n",
    "model.add(Dense(1, activation='sigmoid'))  # Output layer with sigmoid activation\n",
    "\n",
    "# Loading the pretrained weights\n",
    "# Copy weights from autoencoder to the corresponding layers in the new model\n",
    "model.layers[0].set_weights(autoencoder_model_USG.layers[1].get_weights())  # Copy weights for the first dense layer\n",
    "model.layers[1].set_weights(autoencoder_model_USG.layers[2].get_weights())  # Copy weights for the second dense layer\n",
    "\n",
    "\n",
    "# Compile the model\n",
    "model.compile(optimizer='adam', loss='binary_crossentropy', metrics=['accuracy'])\n",
    "\n",
    "# Train the model\n",
    "batch_size = 32\n",
    "epochs = 10\n",
    "history = model.fit(X_train_USG, y_train_USG, epochs=epochs, batch_size=batch_size, validation_split=0.2)\n",
    "\n",
    "# Evaluate the model on the test data\n",
    "loss, accuracy = model.evaluate(X_test_USG, y_test_USG)\n",
    "print(f\"Test Loss: {loss:.4f}, Test Accuracy: {accuracy*100:.2f}%\")"
   ]
  },
  {
   "cell_type": "code",
   "execution_count": 8,
   "id": "75dc2be1-b00a-405b-b579-1ddc12f65b29",
   "metadata": {
    "tags": []
   },
   "outputs": [
    {
     "name": "stdout",
     "output_type": "stream",
     "text": [
      "4/4 [==============================] - 0s 5ms/step\n",
      "Confusion Matrix:\n"
     ]
    },
    {
     "data": {
      "image/png": "[encoded data removed]",
      "text/plain": [
       "<Figure size 600x600 with 2 Axes>"
      ]
     },
     "metadata": {},
     "output_type": "display_data"
    }
   ],
   "source": [
    "# Predict the labels for the test data\n",
    "y_pred_USG = model.predict(X_test_USG)\n",
    "y_pred_classes = np.round(y_pred_USG)  # Convert probabilities to binary predictions (0 or 1)\n",
    "\n",
    "# Create the confusion matrix\n",
    "confusion = confusion_matrix(y_test_USG, y_pred_classes)\n",
    "\n",
    "print(\"Confusion Matrix:\")\n",
    "\n",
    "# Create a heatmap for the confusion matrix\n",
    "plt.figure(figsize=(6, 6))\n",
    "sns.set(font_scale=1.2)\n",
    "sns.heatmap(confusion, annot=True, fmt=\"d\", cmap=\"Blues\", square=True,\n",
    "            xticklabels=[\"Benign\", \"Malignant\"],\n",
    "            yticklabels=[\"Benign\", \"Malignant\"])\n",
    "plt.xlabel('Predicted')\n",
    "plt.ylabel('Actual')\n",
    "plt.title('Confusion Matrix')\n",
    "plt.show()"
   ]
  },
  {
   "cell_type": "code",
   "execution_count": 9,
   "id": "4836b57b-467a-491d-a152-d5ebaa2bef2c",
   "metadata": {},
   "outputs": [
    {
     "name": "stdout",
     "output_type": "stream",
     "text": [
      "Epoch 1/50\n",
      "17/17 [==============================] - 1s 4ms/step - loss: 0.6139\n",
      "Epoch 2/50\n",
      "17/17 [==============================] - 0s 4ms/step - loss: 0.5096\n",
      "Epoch 3/50\n",
      "17/17 [==============================] - 0s 4ms/step - loss: 0.4910\n",
      "Epoch 4/50\n",
      "17/17 [==============================] - 0s 4ms/step - loss: 0.4816\n",
      "Epoch 5/50\n",
      "17/17 [==============================] - 0s 4ms/step - loss: 0.4744\n",
      "Epoch 6/50\n",
      "17/17 [==============================] - 0s 4ms/step - loss: 0.4689\n",
      "Epoch 7/50\n",
      "17/17 [==============================] - 0s 4ms/step - loss: 0.4641\n",
      "Epoch 8/50\n",
      "17/17 [==============================] - 0s 4ms/step - loss: 0.4593\n",
      "Epoch 9/50\n",
      "17/17 [==============================] - 0s 4ms/step - loss: 0.4553\n",
      "Epoch 10/50\n",
      "17/17 [==============================] - 0s 4ms/step - loss: 0.4514\n",
      "Epoch 11/50\n",
      "17/17 [==============================] - 0s 4ms/step - loss: 0.4482\n",
      "Epoch 12/50\n",
      "17/17 [==============================] - 0s 4ms/step - loss: 0.4453\n",
      "Epoch 13/50\n",
      "17/17 [==============================] - 0s 4ms/step - loss: 0.4429\n",
      "Epoch 14/50\n",
      "17/17 [==============================] - 0s 4ms/step - loss: 0.4407\n",
      "Epoch 15/50\n",
      "17/17 [==============================] - 0s 4ms/step - loss: 0.4387\n",
      "Epoch 16/50\n",
      "17/17 [==============================] - 0s 5ms/step - loss: 0.4369\n",
      "Epoch 17/50\n",
      "17/17 [==============================] - 0s 4ms/step - loss: 0.4353\n",
      "Epoch 18/50\n",
      "17/17 [==============================] - 0s 4ms/step - loss: 0.4339\n",
      "Epoch 19/50\n",
      "17/17 [==============================] - 0s 4ms/step - loss: 0.4328\n",
      "Epoch 20/50\n",
      "17/17 [==============================] - 0s 4ms/step - loss: 0.4316\n",
      "Epoch 21/50\n",
      "17/17 [==============================] - 0s 5ms/step - loss: 0.4306\n",
      "Epoch 22/50\n",
      "17/17 [==============================] - 0s 4ms/step - loss: 0.4296\n",
      "Epoch 23/50\n",
      "17/17 [==============================] - 0s 5ms/step - loss: 0.4288\n",
      "Epoch 24/50\n",
      "17/17 [==============================] - 0s 4ms/step - loss: 0.4282\n",
      "Epoch 25/50\n",
      "17/17 [==============================] - 0s 4ms/step - loss: 0.4274\n",
      "Epoch 26/50\n",
      "17/17 [==============================] - 0s 4ms/step - loss: 0.4267\n",
      "Epoch 27/50\n",
      "17/17 [==============================] - 0s 4ms/step - loss: 0.4260\n",
      "Epoch 28/50\n",
      "17/17 [==============================] - 0s 5ms/step - loss: 0.4252\n",
      "Epoch 29/50\n",
      "17/17 [==============================] - 0s 5ms/step - loss: 0.4246\n",
      "Epoch 30/50\n",
      "17/17 [==============================] - 0s 7ms/step - loss: 0.4241\n",
      "Epoch 31/50\n",
      "17/17 [==============================] - 0s 4ms/step - loss: 0.4236\n",
      "Epoch 32/50\n",
      "17/17 [==============================] - 0s 6ms/step - loss: 0.4231\n",
      "Epoch 33/50\n",
      "17/17 [==============================] - 0s 5ms/step - loss: 0.4226\n",
      "Epoch 34/50\n",
      "17/17 [==============================] - 0s 5ms/step - loss: 0.4222\n",
      "Epoch 35/50\n",
      "17/17 [==============================] - 0s 5ms/step - loss: 0.4217\n",
      "Epoch 36/50\n",
      "17/17 [==============================] - 0s 5ms/step - loss: 0.4214\n",
      "Epoch 37/50\n",
      "17/17 [==============================] - 0s 4ms/step - loss: 0.4210\n",
      "Epoch 38/50\n",
      "17/17 [==============================] - 0s 4ms/step - loss: 0.4208\n",
      "Epoch 39/50\n",
      "17/17 [==============================] - 0s 4ms/step - loss: 0.4203\n",
      "Epoch 40/50\n",
      "17/17 [==============================] - 0s 5ms/step - loss: 0.4201\n",
      "Epoch 41/50\n",
      "17/17 [==============================] - 0s 5ms/step - loss: 0.4198\n",
      "Epoch 42/50\n",
      "17/17 [==============================] - 0s 4ms/step - loss: 0.4194\n",
      "Epoch 43/50\n",
      "17/17 [==============================] - 0s 5ms/step - loss: 0.4191\n",
      "Epoch 44/50\n",
      "17/17 [==============================] - 0s 6ms/step - loss: 0.4188\n",
      "Epoch 45/50\n",
      "17/17 [==============================] - 0s 6ms/step - loss: 0.4186\n",
      "Epoch 46/50\n",
      "17/17 [==============================] - 0s 5ms/step - loss: 0.4183\n",
      "Epoch 47/50\n",
      "17/17 [==============================] - 0s 5ms/step - loss: 0.4180\n",
      "Epoch 48/50\n",
      "17/17 [==============================] - 0s 5ms/step - loss: 0.4179\n",
      "Epoch 49/50\n",
      "17/17 [==============================] - 0s 5ms/step - loss: 0.4178\n",
      "Epoch 50/50\n",
      "17/17 [==============================] - 0s 4ms/step - loss: 0.4174\n"
     ]
    }
   ],
   "source": [
    "# pretraining a neural network\n",
    "X_pretrain =  data_MMG.drop(columns=['Class']).values\n",
    "\n",
    "# Define an autoencoder architecture\n",
    "input_layer = Input(shape=(512,))\n",
    "autoencoder_input = Input(shape=(512,))  # Adjust input_shape as needed\n",
    "autoencoder_hidden_1 = Dense(256, activation='relu')(autoencoder_input)\n",
    "autoencoder_hidden_2 = Dense(128, activation='relu')(autoencoder_hidden_1)\n",
    "autoencoder_output = Dense(512, activation='sigmoid')(autoencoder_hidden_2)\n",
    "\n",
    "autoencoder_model_MMG = Model(autoencoder_input, autoencoder_output)\n",
    "\n",
    "# Compile the autoencoder (minimize reconstruction error)\n",
    "autoencoder_model_MMG.compile(optimizer='adam', loss='binary_crossentropy')\n",
    "\n",
    "# Train the autoencoder\n",
    "autoencoder_model_MMG.fit(X_pretrain, X_pretrain, epochs=50, batch_size=32)\n",
    "\n",
    "# Save the pre-trained weights\n",
    "autoencoder_model_MMG.save_weights('Weights/pretrained_weights_MMG.h5')"
   ]
  },
  {
   "cell_type": "code",
   "execution_count": 10,
   "id": "d4c9e7f9-626c-4d61-bb1a-952ff7df4cb6",
   "metadata": {},
   "outputs": [
    {
     "name": "stdout",
     "output_type": "stream",
     "text": [
      "Epoch 1/10\n",
      "11/11 [==============================] - 1s 33ms/step - loss: 0.8842 - accuracy: 0.5562 - val_loss: 0.5720 - val_accuracy: 0.7108\n",
      "Epoch 2/10\n",
      "11/11 [==============================] - 0s 8ms/step - loss: 0.5240 - accuracy: 0.7386 - val_loss: 0.4677 - val_accuracy: 0.8554\n",
      "Epoch 3/10\n",
      "11/11 [==============================] - 0s 7ms/step - loss: 0.3957 - accuracy: 0.8480 - val_loss: 0.3748 - val_accuracy: 0.9036\n",
      "Epoch 4/10\n",
      "11/11 [==============================] - 0s 7ms/step - loss: 0.3025 - accuracy: 0.9058 - val_loss: 0.2944 - val_accuracy: 0.9277\n",
      "Epoch 5/10\n",
      "11/11 [==============================] - 0s 8ms/step - loss: 0.2419 - accuracy: 0.9392 - val_loss: 0.2639 - val_accuracy: 0.9277\n",
      "Epoch 6/10\n",
      "11/11 [==============================] - 0s 6ms/step - loss: 0.1971 - accuracy: 0.9544 - val_loss: 0.2007 - val_accuracy: 0.9398\n",
      "Epoch 7/10\n",
      "11/11 [==============================] - 0s 8ms/step - loss: 0.1554 - accuracy: 0.9787 - val_loss: 0.1888 - val_accuracy: 0.9398\n",
      "Epoch 8/10\n",
      "11/11 [==============================] - 0s 8ms/step - loss: 0.1216 - accuracy: 0.9787 - val_loss: 0.1576 - val_accuracy: 0.9639\n",
      "Epoch 9/10\n",
      "11/11 [==============================] - 0s 7ms/step - loss: 0.1025 - accuracy: 0.9818 - val_loss: 0.1913 - val_accuracy: 0.9639\n",
      "Epoch 10/10\n",
      "11/11 [==============================] - 0s 7ms/step - loss: 0.0889 - accuracy: 0.9878 - val_loss: 0.1380 - val_accuracy: 0.9518\n",
      "4/4 [==============================] - 0s 5ms/step - loss: 0.1372 - accuracy: 0.9615\n",
      "Test Loss: 0.1372, Test Accuracy: 96.15%\n"
     ]
    }
   ],
   "source": [
    "# Load your data  'data_MMG'\n",
    "# X should contain your features, and 'Class' should contain binary labels (0 or 1)\n",
    "X = data_MMG.drop(columns=['Class']).values\n",
    "y = data_MMG['Class'].values.reshape(-1, 1)\n",
    "\n",
    "# Split your data into training and testing sets\n",
    "X_train_MMG, X_test_MMG, y_train_MMG, y_test_MMG = train_test_split(X, y, test_size=0.2, random_state=42)\n",
    "\n",
    "# Define the model\n",
    "model = Sequential()\n",
    "model.add(Dense(256, activation='relu', input_shape=(512,)))  # Adjust input_shape as needed\n",
    "model.add(Dense(128, activation='relu'))\n",
    "model.add(Dense(1, activation='sigmoid'))  # Output layer with sigmoid activation\n",
    "\n",
    "# Loading the pretrained weights\n",
    "# Copy weights from autoencoder to the corresponding layers in the new model\n",
    "model.layers[0].set_weights(autoencoder_model_MMG.layers[1].get_weights())  # Copy weights for the first dense layer\n",
    "model.layers[1].set_weights(autoencoder_model_MMG.layers[2].get_weights())  # Copy weights for the second dense layer\n",
    "\n",
    "# Compile the model\n",
    "model.compile(optimizer='adam', loss='binary_crossentropy', metrics=['accuracy'])\n",
    "\n",
    "# Train the model\n",
    "batch_size = 32\n",
    "epochs = 10\n",
    "history = model.fit(X_train_MMG, y_train_MMG, epochs=epochs, batch_size=batch_size, validation_split=0.2)\n",
    "\n",
    "# Evaluate the model on the test data\n",
    "loss, accuracy = model.evaluate(X_test_MMG, y_test_MMG)\n",
    "print(f\"Test Loss: {loss:.4f}, Test Accuracy: {accuracy*100:.2f}%\")"
   ]
  },
  {
   "cell_type": "code",
   "execution_count": 11,
   "id": "2a005a36-5deb-4f7a-9dbc-8adffb0627e0",
   "metadata": {
    "tags": []
   },
   "outputs": [
    {
     "name": "stdout",
     "output_type": "stream",
     "text": [
      "4/4 [==============================] - 0s 7ms/step\n",
      "Confusion Matrix:\n"
     ]
    },
    {
     "data": {
      "image/png": "[encoded data removed]",
      "text/plain": [
       "<Figure size 600x600 with 2 Axes>"
      ]
     },
     "metadata": {},
     "output_type": "display_data"
    }
   ],
   "source": [
    "# Predict the labels for the test data\n",
    "y_pred_MMG = model.predict(X_test_MMG)\n",
    "y_pred_classes = np.round(y_pred_MMG)  # Convert probabilities to binary predictions (0 or 1)\n",
    "\n",
    "# Create the confusion matrix\n",
    "confusion = confusion_matrix(y_test_MMG, y_pred_classes)\n",
    "\n",
    "print(\"Confusion Matrix:\")\n",
    "\n",
    "# Create a heatmap for the confusion matrix\n",
    "plt.figure(figsize=(6, 6))\n",
    "sns.set(font_scale=1.2)\n",
    "sns.heatmap(confusion, annot=True, fmt=\"d\", cmap=\"Blues\", square=True,\n",
    "            xticklabels=[\"Benign\", \"Malignant\"],\n",
    "            yticklabels=[\"Benign\", \"Malignant\"])\n",
    "plt.xlabel('Predicted')\n",
    "plt.ylabel('Actual')\n",
    "plt.title('Confusion Matrix')\n",
    "plt.show()"
   ]
  },
  {
   "cell_type": "code",
   "execution_count": 14,
   "id": "1bba3f8a-be0a-432e-a6dc-72faa42443ea",
   "metadata": {},
   "outputs": [
    {
     "name": "stdout",
     "output_type": "stream",
     "text": [
      "Epoch 1/50\n",
      "17/17 [==============================] - 1s 5ms/step - loss: 0.5901\n",
      "Epoch 2/50\n",
      "17/17 [==============================] - 0s 6ms/step - loss: 0.5020\n",
      "Epoch 3/50\n",
      "17/17 [==============================] - 0s 4ms/step - loss: 0.4903\n",
      "Epoch 4/50\n",
      "17/17 [==============================] - 0s 4ms/step - loss: 0.4835\n",
      "Epoch 5/50\n",
      "17/17 [==============================] - 0s 5ms/step - loss: 0.4757\n",
      "Epoch 6/50\n",
      "17/17 [==============================] - 0s 4ms/step - loss: 0.4705\n",
      "Epoch 7/50\n",
      "17/17 [==============================] - 0s 5ms/step - loss: 0.4667\n",
      "Epoch 8/50\n",
      "17/17 [==============================] - 0s 4ms/step - loss: 0.4633\n",
      "Epoch 9/50\n",
      "17/17 [==============================] - 0s 5ms/step - loss: 0.4597\n",
      "Epoch 10/50\n",
      "17/17 [==============================] - 0s 4ms/step - loss: 0.4562\n",
      "Epoch 11/50\n",
      "17/17 [==============================] - 0s 5ms/step - loss: 0.4528\n",
      "Epoch 12/50\n",
      "17/17 [==============================] - 0s 5ms/step - loss: 0.4493\n",
      "Epoch 13/50\n",
      "17/17 [==============================] - 0s 4ms/step - loss: 0.4463\n",
      "Epoch 14/50\n",
      "17/17 [==============================] - 0s 4ms/step - loss: 0.4434\n",
      "Epoch 15/50\n",
      "17/17 [==============================] - 0s 5ms/step - loss: 0.4411\n",
      "Epoch 16/50\n",
      "17/17 [==============================] - 0s 5ms/step - loss: 0.4390\n",
      "Epoch 17/50\n",
      "17/17 [==============================] - 0s 5ms/step - loss: 0.4372\n",
      "Epoch 18/50\n",
      "17/17 [==============================] - 0s 5ms/step - loss: 0.4354\n",
      "Epoch 19/50\n",
      "17/17 [==============================] - 0s 5ms/step - loss: 0.4338\n",
      "Epoch 20/50\n",
      "17/17 [==============================] - 0s 5ms/step - loss: 0.4324\n",
      "Epoch 21/50\n",
      "17/17 [==============================] - 0s 5ms/step - loss: 0.4312\n",
      "Epoch 22/50\n",
      "17/17 [==============================] - 0s 5ms/step - loss: 0.4302\n",
      "Epoch 23/50\n",
      "17/17 [==============================] - 0s 5ms/step - loss: 0.4292\n",
      "Epoch 24/50\n",
      "17/17 [==============================] - 0s 6ms/step - loss: 0.4283\n",
      "Epoch 25/50\n",
      "17/17 [==============================] - 0s 5ms/step - loss: 0.4274\n",
      "Epoch 26/50\n",
      "17/17 [==============================] - 0s 4ms/step - loss: 0.4266\n",
      "Epoch 27/50\n",
      "17/17 [==============================] - 0s 4ms/step - loss: 0.4258\n",
      "Epoch 28/50\n",
      "17/17 [==============================] - 0s 5ms/step - loss: 0.4252\n",
      "Epoch 29/50\n",
      "17/17 [==============================] - 0s 5ms/step - loss: 0.4246\n",
      "Epoch 30/50\n",
      "17/17 [==============================] - 0s 5ms/step - loss: 0.4240\n",
      "Epoch 31/50\n",
      "17/17 [==============================] - 0s 5ms/step - loss: 0.4234\n",
      "Epoch 32/50\n",
      "17/17 [==============================] - 0s 4ms/step - loss: 0.4228\n",
      "Epoch 33/50\n",
      "17/17 [==============================] - 0s 5ms/step - loss: 0.4223\n",
      "Epoch 34/50\n",
      "17/17 [==============================] - 0s 5ms/step - loss: 0.4217\n",
      "Epoch 35/50\n",
      "17/17 [==============================] - 0s 5ms/step - loss: 0.4213\n",
      "Epoch 36/50\n",
      "17/17 [==============================] - 0s 6ms/step - loss: 0.4209\n",
      "Epoch 37/50\n",
      "17/17 [==============================] - 0s 5ms/step - loss: 0.4204\n",
      "Epoch 38/50\n",
      "17/17 [==============================] - 0s 6ms/step - loss: 0.4199\n",
      "Epoch 39/50\n",
      "17/17 [==============================] - 0s 4ms/step - loss: 0.4196\n",
      "Epoch 40/50\n",
      "17/17 [==============================] - 0s 5ms/step - loss: 0.4191\n",
      "Epoch 41/50\n",
      "17/17 [==============================] - 0s 5ms/step - loss: 0.4187\n",
      "Epoch 42/50\n",
      "17/17 [==============================] - 0s 5ms/step - loss: 0.4184\n",
      "Epoch 43/50\n",
      "17/17 [==============================] - 0s 5ms/step - loss: 0.4181\n",
      "Epoch 44/50\n",
      "17/17 [==============================] - 0s 3ms/step - loss: 0.4177\n",
      "Epoch 45/50\n",
      "17/17 [==============================] - 0s 5ms/step - loss: 0.4173\n",
      "Epoch 46/50\n",
      "17/17 [==============================] - 0s 5ms/step - loss: 0.4169\n",
      "Epoch 47/50\n",
      "17/17 [==============================] - 0s 5ms/step - loss: 0.4166\n",
      "Epoch 48/50\n",
      "17/17 [==============================] - 0s 5ms/step - loss: 0.4163\n",
      "Epoch 49/50\n",
      "17/17 [==============================] - 0s 5ms/step - loss: 0.4161\n",
      "Epoch 50/50\n",
      "17/17 [==============================] - 0s 6ms/step - loss: 0.4157\n"
     ]
    }
   ],
   "source": [
    "# pretraining a neural network\n",
    "X_pretrain =  data_multimodal.drop(columns=['Class']).values\n",
    "\n",
    "# Define an autoencoder architecture\n",
    "autoencoder_input = Input(shape=(1024,))  # Adjust input_shape as needed\n",
    "autoencoder_hidden_1 = Dense(256, activation='relu')(autoencoder_input)\n",
    "autoencoder_hidden_2 = Dense(128, activation='relu')(autoencoder_hidden_1)\n",
    "autoencoder_output = Dense(1024, activation='sigmoid')(autoencoder_hidden_2)\n",
    "\n",
    "autoencoder_model = Model(autoencoder_input, autoencoder_output)\n",
    "\n",
    "# Compile the autoencoder (minimize reconstruction error)\n",
    "autoencoder_model.compile(optimizer='adam', loss='binary_crossentropy')\n",
    "\n",
    "# Train the autoencoder\n",
    "autoencoder_model.fit(X_pretrain, X_pretrain, epochs=50, batch_size=32)\n",
    "\n",
    "# Save the pre-trained weights\n",
    "autoencoder_model.save_weights('Weights/pretrained_weights_multimodal.h5')"
   ]
  },
  {
   "cell_type": "code",
   "execution_count": 15,
   "id": "0f4fe584-52bb-45c4-8dc2-9733dfa1a320",
   "metadata": {
    "tags": []
   },
   "outputs": [
    {
     "name": "stdout",
     "output_type": "stream",
     "text": [
      "Epoch 1/10\n",
      "8/8 [==============================] - 1s 47ms/step - loss: 0.9053 - accuracy: 0.5911 - val_loss: 0.5519 - val_accuracy: 0.6774\n",
      "Epoch 2/10\n",
      "8/8 [==============================] - 0s 9ms/step - loss: 0.4253 - accuracy: 0.8016 - val_loss: 0.3136 - val_accuracy: 0.9032\n",
      "Epoch 3/10\n",
      "8/8 [==============================] - 0s 9ms/step - loss: 0.2789 - accuracy: 0.9109 - val_loss: 0.2385 - val_accuracy: 0.9516\n",
      "Epoch 4/10\n",
      "8/8 [==============================] - 0s 9ms/step - loss: 0.1837 - accuracy: 0.9636 - val_loss: 0.2021 - val_accuracy: 0.9516\n",
      "Epoch 5/10\n",
      "8/8 [==============================] - 0s 11ms/step - loss: 0.1380 - accuracy: 0.9717 - val_loss: 0.1737 - val_accuracy: 0.9677\n",
      "Epoch 6/10\n",
      "8/8 [==============================] - 0s 12ms/step - loss: 0.1017 - accuracy: 0.9838 - val_loss: 0.1405 - val_accuracy: 0.9839\n",
      "Epoch 7/10\n",
      "8/8 [==============================] - 0s 14ms/step - loss: 0.0742 - accuracy: 0.9879 - val_loss: 0.1262 - val_accuracy: 0.9839\n",
      "Epoch 8/10\n",
      "8/8 [==============================] - 0s 12ms/step - loss: 0.0607 - accuracy: 0.9879 - val_loss: 0.1084 - val_accuracy: 0.9677\n",
      "Epoch 9/10\n",
      "8/8 [==============================] - 0s 12ms/step - loss: 0.0445 - accuracy: 1.0000 - val_loss: 0.1106 - val_accuracy: 0.9677\n",
      "Epoch 10/10\n",
      "8/8 [==============================] - 0s 11ms/step - loss: 0.0404 - accuracy: 0.9960 - val_loss: 0.0850 - val_accuracy: 0.9839\n",
      "7/7 [==============================] - 0s 6ms/step - loss: 0.0924 - accuracy: 0.9614\n",
      "Test Loss: 0.0924, Test Accuracy: 96.14%\n"
     ]
    }
   ],
   "source": [
    "# Load your data  'data_multimodal'\n",
    "# X should contain your features, and 'Class' should contain binary labels (0 or 1)\n",
    "X = data_multimodal.drop(columns=['Class']).values\n",
    "y = data_multimodal['Class'].values.reshape(-1, 1)\n",
    "\n",
    "# Split your data into training and testing sets\n",
    "X_train, X_test, y_train, y_test = train_test_split(X, y, test_size=0.4, random_state=42)\n",
    "\n",
    "# Define the model\n",
    "model = Sequential()\n",
    "model.add(Dense(256, activation='relu', input_shape=(1024,)))  # Adjust input_shape as needed\n",
    "model.add(Dense(128, activation='relu'))\n",
    "model.add(Dense(1, activation='sigmoid'))  # Output layer with sigmoid activation\n",
    "\n",
    "# Loading the pretrained weights\n",
    "# Copy weights from autoencoder to the corresponding layers in the new model\n",
    "model.layers[0].set_weights(autoencoder_model.layers[1].get_weights())  # Copy weights for the first dense layer\n",
    "model.layers[1].set_weights(autoencoder_model.layers[2].get_weights())  # Copy weights for the second dense layer\n",
    "\n",
    "\n",
    "# Compile the model\n",
    "model.compile(optimizer='adam', loss='binary_crossentropy', metrics=['accuracy'])\n",
    "\n",
    "# Train the model\n",
    "batch_size = 32\n",
    "epochs = 10\n",
    "history = model.fit(X_train, y_train, epochs=epochs, batch_size=batch_size, validation_split=0.2)\n",
    "\n",
    "# Evaluate the model on the test data\n",
    "loss, accuracy = model.evaluate(X_test, y_test)\n",
    "print(f\"Test Loss: {loss:.4f}, Test Accuracy: {accuracy*100:.2f}%\")"
   ]
  },
  {
   "cell_type": "code",
   "execution_count": 16,
   "id": "2f510c31-5645-44ae-8099-cdac819580b3",
   "metadata": {
    "tags": []
   },
   "outputs": [
    {
     "name": "stdout",
     "output_type": "stream",
     "text": [
      "7/7 [==============================] - 0s 2ms/step\n",
      "Confusion Matrix:\n"
     ]
    },
    {
     "data": {
      "image/png": "[encoded data removed]",
      "text/plain": [
       "<Figure size 600x600 with 2 Axes>"
      ]
     },
     "metadata": {},
     "output_type": "display_data"
    }
   ],
   "source": [
    "# Predict the labels for the test data\n",
    "y_pred = model.predict(X_test)\n",
    "y_pred_classes = np.round(y_pred)  # Convert probabilities to binary predictions (0 or 1)\n",
    "\n",
    "# Create the confusion matrix\n",
    "confusion = confusion_matrix(y_test, y_pred_classes)\n",
    "\n",
    "print(\"Confusion Matrix:\")\n",
    "\n",
    "# Create a heatmap for the confusion matrix\n",
    "plt.figure(figsize=(6, 6))\n",
    "sns.set(font_scale=1.2)\n",
    "sns.heatmap(confusion, annot=True, fmt=\"d\", cmap=\"Blues\", square=True,\n",
    "            xticklabels=[\"Benign\", \"Malignant\"],\n",
    "            yticklabels=[\"Benign\", \"Malignant\"])\n",
    "plt.xlabel('Predicted')\n",
    "plt.ylabel('Actual')\n",
    "plt.title('Confusion Matrix')\n",
    "plt.show()"
   ]
  }
 ],
 "metadata": {
  "kernelspec": {
   "display_name": "Python 3 (ipykernel)",
   "language": "python",
   "name": "python3"
  },
  "language_info": {
   "codemirror_mode": {
    "name": "ipython",
    "version": 3
   },
   "file_extension": ".py",
   "mimetype": "text/x-python",
   "name": "python",
   "nbconvert_exporter": "python",
   "pygments_lexer": "ipython3",
   "version": "3.10.9"
  }
 },
 "nbformat": 4,
 "nbformat_minor": 5
}
