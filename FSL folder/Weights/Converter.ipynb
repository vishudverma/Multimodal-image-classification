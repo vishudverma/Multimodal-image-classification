{
 "cells": [
  {
   "cell_type": "code",
   "execution_count": 2,
   "id": "4cd363cc",
   "metadata": {},
   "outputs": [],
   "source": [
    "import pickle"
   ]
  },
  {
   "cell_type": "code",
   "execution_count": 3,
   "id": "0beec4f8",
   "metadata": {},
   "outputs": [],
   "source": [
    "with open(\"MMG Model.pkcls\", 'rb') as file:\n",
    "    data_MMG = pickle.load(file)\n",
    "    content_MMG = str(data_MMG)"
   ]
  },
  {
   "cell_type": "code",
   "execution_count": 5,
   "id": "52e55dbb",
   "metadata": {},
   "outputs": [],
   "source": [
    "with open(\"USG model.pkcls\", 'rb') as file:\n",
    "    data_USG = pickle.load(file)\n",
    "    USG_content = str(data_USG)"
   ]
  },
  {
   "cell_type": "code",
   "execution_count": 6,
   "id": "1096459d",
   "metadata": {},
   "outputs": [],
   "source": [
    "with open(\"Multimodal model.pkcls\", 'rb') as file:\n",
    "    data_Multimodal = pickle.load(file)\n",
    "    MultiModal_content = str(data_Multimodal)"
   ]
  },
  {
   "cell_type": "code",
   "execution_count": 7,
   "id": "665fe572",
   "metadata": {},
   "outputs": [],
   "source": [
    "with open('MMG_Model.py', 'w') as file:\n",
    "    file.write(\"#This is the MMG neural network model this file can be easily replaced\\n\")\n",
    "    file.write(content_MMG)"
   ]
  },
  {
   "cell_type": "code",
   "execution_count": 8,
   "id": "4f319ae3",
   "metadata": {},
   "outputs": [],
   "source": [
    "with open('USG_Model.py', 'w') as file:\n",
    "    file.write(\"#This is the MMG neural network model this file can be easily replaced\\n\")\n",
    "    file.write(USG_content)"
   ]
  },
  {
   "cell_type": "code",
   "execution_count": 9,
   "id": "126e637a",
   "metadata": {},
   "outputs": [],
   "source": [
    "with open('MultiModal_Model.py', 'w') as file:\n",
    "    file.write(\"#This is the MMG neural network model this file can be easily replaced\\n\")\n",
    "    file.write(MultiModal_content)"
   ]
  }
 ],
 "metadata": {
  "kernelspec": {
   "display_name": "Python 3 (ipykernel)",
   "language": "python",
   "name": "python3"
  },
  "language_info": {
   "codemirror_mode": {
    "name": "ipython",
    "version": 3
   },
   "file_extension": ".py",
   "mimetype": "text/x-python",
   "name": "python",
   "nbconvert_exporter": "python",
   "pygments_lexer": "ipython3",
   "version": "3.9.17"
  }
 },
 "nbformat": 4,
 "nbformat_minor": 5
}
